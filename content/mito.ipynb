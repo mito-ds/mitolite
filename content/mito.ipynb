{
  "cells": [
    {
      "attachments": {},
      "cell_type": "markdown",
      "metadata": {
        "tags": []
      },
      "source": [
        "# Mito -- Spreadsheets, meet AI Automation\n",
        "\n",
        "Mito is a spreadsheet that generates Python code as you edit it. With Mito, you can:\n",
        "1. Write spreadsheet formulas\n",
        "2. Create pivot tables\n",
        "3. Make interactive graphs\n",
        "4. Use an AI chat bot\n",
        "and Mito will create a script you can use to automate any spreadsheet report. \n",
        "\n",
        "# Using Mito:\n",
        "1. Click the Run All button in the toolbar above. It looks like a fast-forward button.\n",
        "2. When the Mitosheet appears below, click the import button and import data from the `data` folder.\n",
        "3. Explore the spreadsheet!"
      ]
    },
    {
      "cell_type": "code",
      "execution_count": null,
      "metadata": {
        "trusted": true
      },
      "outputs": [],
      "source": [
        "# Install relevant dependencies\n",
        "%pip install --no-deps mitosheet==0.1.486\n",
        "%pip install pandas plotly openpyxl distutils chardet requests analytics-python pyodide-http"
      ]
    },
    {
      "cell_type": "code",
      "execution_count": null,
      "metadata": {
        "vscode": {
          "languageId": "plaintext"
        }
      },
      "outputs": [],
      "source": [
        "# Create a mitosheet\n",
        "import mitosheet\n",
        "mitosheet.sheet()"
      ]
    }
  ],
  "metadata": {
    "kernelspec": {
      "display_name": "Python (Pyodide)",
      "language": "python",
      "name": "python"
    },
    "language_info": {
      "codemirror_mode": {
        "name": "python",
        "version": 3
      },
      "file_extension": ".py",
      "mimetype": "text/x-python",
      "name": "python",
      "nbconvert_exporter": "python",
      "pygments_lexer": "ipython3",
      "version": "3.8"
    },
    "orig_nbformat": 4
  },
  "nbformat": 4,
  "nbformat_minor": 4
}
