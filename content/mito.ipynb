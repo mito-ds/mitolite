{
  "cells": [
    {
      "attachments": {},
      "cell_type": "markdown",
      "metadata": {
        "tags": []
      },
      "source": [
        "# Mito -- Spreadsheets, meet AI Automation\n",
        "\n",
        "1. Press `Shift + Enter` 3 times to run all cells in this notebook.\n",
        "2. When the Mitosheet appears below, click `Import` and import files from the `data` folder.\n",
        "3. Explore the spreadsheet!"
      ]
    },
    {
      "cell_type": "code",
      "execution_count": null,
      "metadata": {
        "deletable": false,
        "editable": false,
        "trusted": true
      },
      "outputs": [],
      "source": [
        "# Install relevant dependencies - depending on your internet, this will take about 30 seconds\n",
        "%pip install --no-deps mitosheet==0.1.486\n",
        "%pip install pandas plotly openpyxl distutils chardet requests analytics-python pyodide-http"
      ]
    },
    {
      "cell_type": "code",
      "execution_count": null,
      "metadata": {},
      "outputs": [],
      "source": [
        "# Create a mitosheet\n",
        "import mitosheet\n",
        "mitosheet.sheet()"
      ]
    }
  ],
  "metadata": {
    "kernelspec": {
      "display_name": "Python (Pyodide)",
      "language": "python",
      "name": "python"
    },
    "language_info": {
      "codemirror_mode": {
        "name": "python",
        "version": 3
      },
      "file_extension": ".py",
      "mimetype": "text/x-python",
      "name": "python",
      "nbconvert_exporter": "python",
      "pygments_lexer": "ipython3",
      "version": "3.8"
    },
    "orig_nbformat": 4
  },
  "nbformat": 4,
  "nbformat_minor": 4
}
